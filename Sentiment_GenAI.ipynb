{
 "metadata": {
  "language_info": {
   "codemirror_mode": {
    "name": "ipython",
    "version": 3
   },
   "file_extension": ".py",
   "mimetype": "text/x-python",
   "name": "python",
   "nbconvert_exporter": "python",
   "pygments_lexer": "ipython3",
   "version": 3
  },
  "orig_nbformat": 4
 },
 "nbformat": 4,
 "nbformat_minor": 2,
 "cells": [
  {
   "source": [
    "**Install Vertex AI SDK initialize Vertex AI** "
   ],
   "cell_type": "markdown",
   "metadata": {}
  },
  {
   "cell_type": "code",
   "execution_count": null,
   "metadata": {},
   "outputs": [],
   "source": [
    "!pip install google-cloud-aiplatform --upgrade --user\n",
    "\n",
    "PROJECT_ID = \"your-project-id\" #given by GCP\n",
    "LOCATION = \"us-central1\"\n",
    "\n",
    "import vertexai\n",
    "vertexai.init(project=PROJECT_ID, location=LOCATION)"
   ]
  },
  {
   "source": [
    "**Load model**"
   ],
   "cell_type": "markdown",
   "metadata": {}
  },
  {
   "cell_type": "code",
   "execution_count": null,
   "metadata": {},
   "outputs": [],
   "source": [
    "generation_model = TextGenerationModel.from_pretrained(\"text-bison@001\")"
   ]
  },
  {
   "source": [
    "**Prompts**\n",
    "\n",
    "Prompt should include the task, examples of input with correct-outputs, the new input, and the result unduction  "
   ],
   "cell_type": "markdown",
   "metadata": {}
  },
  {
   "cell_type": "code",
   "execution_count": null,
   "metadata": {},
   "outputs": [],
   "source": [
    "prompt = \"\"\"Decide whether a custemer's feedback sentiment is positive, neutral, or negative.\n",
    "\n",
    "customer: Comparing against other listings of the same charms - this is the best value. $20CAD for the multi sets. Im a wedding photographer and this helps personalize my detail shots. I bring these to every wedding\n",
    "Sentiment: positive\n",
    "\n",
    "Customer: That was awful. So boring!\n",
    "Sentiment: Negative\n",
    "\n",
    "Customer: Good quality and cute, not cheap looking. The letters with the flowers and stuff on them are a little hard to make out, but still very nice.\n",
    "Sentiment: Positive\n",
    "\n",
    "Customer: PROS:Great variety of design and colors. Sturdy charms. Full linking circle.\n",
    "CONS:Every alphabet set is missing letters. No duplicate of common letters.\n",
    "OVERVIEW: Not horrible but frustrating with the missing letters. Will not be purchasing again. Too many of the letters are common use like D, H, M,S, etc. \n",
    "Sentiment:\n",
    "\"\"\"\n",
    "\n",
    "print(generation_model.predict(prompt=prompt, max_output_tokens=256).text)"
   ]
  }
 ]
}